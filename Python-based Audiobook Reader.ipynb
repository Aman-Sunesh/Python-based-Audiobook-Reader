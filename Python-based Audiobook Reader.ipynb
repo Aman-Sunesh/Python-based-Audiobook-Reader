{
 "cells": [
  {
   "cell_type": "code",
   "execution_count": 29,
   "metadata": {},
   "outputs": [],
   "source": [
    "import os \n",
    "import pyttsx3\n",
    "from ebooklib import epub\n",
    "from bs4 import BeautifulSoup\n",
    "import fitz\n",
    "import tkinter as tk\n",
    "from tkinter import filedialog, ttk\n"
   ]
  },
  {
   "cell_type": "code",
   "execution_count": 19,
   "metadata": {},
   "outputs": [],
   "source": [
    "engine = pyttsx3.init()"
   ]
  },
  {
   "cell_type": "code",
   "execution_count": 20,
   "metadata": {},
   "outputs": [],
   "source": [
    "# Set default properties\n",
    "engine.setProperty('rate', 150)    # Speech rate\n",
    "engine.setProperty('volume', 1.0)  # Volume (0.0 to 1.0)"
   ]
  },
  {
   "cell_type": "code",
   "execution_count": 21,
   "metadata": {},
   "outputs": [
    {
     "name": "stdout",
     "output_type": "stream",
     "text": [
      "Voice 0: Microsoft David Desktop - English (United States) - []\n",
      "Voice 1: Microsoft Zira Desktop - English (United States) - []\n"
     ]
    }
   ],
   "source": [
    "voices = engine.getProperty('voices')\n",
    "\n",
    "for index, voice in enumerate(voices):\n",
    "    print(f\"Voice {index}: {voice.name} - {voice.languages}\")"
   ]
  },
  {
   "cell_type": "code",
   "execution_count": 22,
   "metadata": {},
   "outputs": [],
   "source": [
    "## Function to read .txt files\n",
    "def read_text_file(file_path):\n",
    "    with open(file_path, 'r', encoding = 'utf-8') as file:\n",
    "        return file.read()"
   ]
  },
  {
   "cell_type": "code",
   "execution_count": 23,
   "metadata": {},
   "outputs": [],
   "source": [
    "## Function to read .epub files\n",
    "def read_epub_file(file_path):\n",
    "    book = epub.read_pub(file_path)\n",
    "    text = \"\" \n",
    "\n",
    "    for doc in book.get_items_of_type(ebooklib.ITEM_DOCUMENT):\n",
    "        content = doc.get_content().decode('utf-8')\n",
    "        soup = BeautifulSoup(content, 'html.parser')\n",
    "        text += soup.get_text()\n",
    "\n",
    "    return text"
   ]
  },
  {
   "cell_type": "code",
   "execution_count": 24,
   "metadata": {},
   "outputs": [],
   "source": [
    "# Function to read .pdf files\n",
    "def read_pdf_file(file_path):\n",
    "    pdf = fitz.open(file_path)\n",
    "    text = \"\"\n",
    "\n",
    "    for page in pdf:\n",
    "        text += page.get_text()\n",
    "\n",
    "    return text"
   ]
  },
  {
   "cell_type": "code",
   "execution_count": 25,
   "metadata": {},
   "outputs": [],
   "source": [
    "# Playback Control Functions\n",
    "\n",
    "def play_text(text):\n",
    "    engine.say(text)\n",
    "    engine.runAndWait()\n",
    "\n",
    "def pause_reading():\n",
    "    engine.pause()\n",
    "\n",
    "def resume_reading():\n",
    "    engine.resume()\n",
    "\n",
    "def stop_reading():\n",
    "    engine.stop()"
   ]
  },
  {
   "cell_type": "code",
   "execution_count": 26,
   "metadata": {},
   "outputs": [],
   "source": [
    "# Speech Settings Functions \n",
    "\n",
    "def set_voice(voice_id):\n",
    "    engine.setProperty('voice', voices[voice_id].id)\n",
    "\n",
    "def set_rate(rate):\n",
    "    engine.setProperty('rate', rate)\n",
    "\n",
    "def set_volume(volume):\n",
    "    engine.setProperty('volume', volume)"
   ]
  },
  {
   "cell_type": "code",
   "execution_count": 27,
   "metadata": {},
   "outputs": [],
   "source": [
    "# Function to Save to Audiio File\n",
    "def save_to_audio(text, filename):\n",
    "    engine.save_to_file(text, filename)\n",
    "    engine.runAndWait()"
   ]
  },
  {
   "cell_type": "code",
   "execution_count": 30,
   "metadata": {},
   "outputs": [
    {
     "ename": "NameError",
     "evalue": "name 'load_and_read' is not defined",
     "output_type": "error",
     "traceback": [
      "\u001b[1;31m---------------------------------------------------------------------------\u001b[0m",
      "\u001b[1;31mNameError\u001b[0m                                 Traceback (most recent call last)",
      "Cell \u001b[1;32mIn[30], line 6\u001b[0m\n\u001b[0;32m      3\u001b[0m root\u001b[38;5;241m.\u001b[39mtitle(\u001b[38;5;124m\"\u001b[39m\u001b[38;5;124mAudiobook Reader\u001b[39m\u001b[38;5;124m\"\u001b[39m)\n\u001b[0;32m      5\u001b[0m \u001b[38;5;66;03m# Load Button\u001b[39;00m\n\u001b[1;32m----> 6\u001b[0m load_button \u001b[38;5;241m=\u001b[39m tk\u001b[38;5;241m.\u001b[39mButton(root, text\u001b[38;5;241m=\u001b[39m\u001b[38;5;124m\"\u001b[39m\u001b[38;5;124mLoad and Read Book\u001b[39m\u001b[38;5;124m\"\u001b[39m, command\u001b[38;5;241m=\u001b[39m\u001b[43mload_and_read\u001b[49m)\n\u001b[0;32m      7\u001b[0m load_button\u001b[38;5;241m.\u001b[39mpack(pady\u001b[38;5;241m=\u001b[39m\u001b[38;5;241m10\u001b[39m)\n\u001b[0;32m      9\u001b[0m \u001b[38;5;66;03m# Voice Selection\u001b[39;00m\n",
      "\u001b[1;31mNameError\u001b[0m: name 'load_and_read' is not defined"
     ]
    }
   ],
   "source": [
    "# Setup GUI\n",
    "root = tk.Tk()\n",
    "root.title(\"Audiobook Reader\")\n",
    "\n",
    "# Load Button\n",
    "load_button = tk.Button(root, text=\"Load and Read Book\", command=load_and_read)\n",
    "load_button.pack(pady=10)\n",
    "\n",
    "# Voice Selection\n",
    "voice_label = tk.Label(root, text=\"Select Voice:\")\n",
    "voice_label.pack()\n",
    "voice_combo = ttk.Combobox(root, values=[voice.name for voice in voices])\n",
    "voice_combo.current(0)\n",
    "voice_combo.bind(\"<<ComboboxSelected>>\", change_voice)\n",
    "voice_combo.pack(pady=5)\n",
    "\n",
    "# Rate Slider\n",
    "rate_label = tk.Label(root, text=\"Speech Rate:\")\n",
    "rate_label.pack()\n",
    "rate_slider = tk.Scale(root, from_=100, to=200, orient=tk.HORIZONTAL, command=change_rate)\n",
    "rate_slider.set(engine.getProperty('rate'))\n",
    "rate_slider.pack(pady=5)\n",
    "\n",
    "# Volume Slider\n",
    "volume_label = tk.Label(root, text=\"Volume:\")\n",
    "volume_label.pack()\n",
    "volume_slider = tk.Scale(root, from_=0, to=1, resolution=0.1, orient=tk.HORIZONTAL, command=change_volume)\n",
    "volume_slider.set(engine.getProperty('volume'))\n",
    "volume_slider.pack(pady=5)\n",
    "\n",
    "root.mainloop()"
   ]
  }
 ],
 "metadata": {
  "kernelspec": {
   "display_name": "Python 3",
   "language": "python",
   "name": "python3"
  },
  "language_info": {
   "codemirror_mode": {
    "name": "ipython",
    "version": 3
   },
   "file_extension": ".py",
   "mimetype": "text/x-python",
   "name": "python",
   "nbconvert_exporter": "python",
   "pygments_lexer": "ipython3",
   "version": "3.12.4"
  }
 },
 "nbformat": 4,
 "nbformat_minor": 2
}
