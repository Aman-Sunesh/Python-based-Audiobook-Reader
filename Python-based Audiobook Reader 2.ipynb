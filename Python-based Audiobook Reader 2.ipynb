{
 "cells": [
  {
   "cell_type": "code",
   "execution_count": 45,
   "metadata": {},
   "outputs": [],
   "source": [
    "import os\n",
    "import pyttsx3\n",
    "from ebooklib import epub\n",
    "from bs4 import BeautifulSoup\n",
    "import fitz  # PyMuPDF\n",
    "import tkinter as tk\n",
    "from tkinter import filedialog, ttk, messagebox"
   ]
  },
  {
   "cell_type": "code",
   "execution_count": 46,
   "metadata": {},
   "outputs": [],
   "source": [
    "# Initialize pyttsx3 engine\n",
    "engine = pyttsx3.init()"
   ]
  },
  {
   "cell_type": "code",
   "execution_count": 47,
   "metadata": {},
   "outputs": [],
   "source": [
    "# Set default properties\n",
    "engine.setProperty('rate', 150)    # Speech rate\n",
    "engine.setProperty('volume', 1.0)  # Volume (0.0 to 1.0)"
   ]
  },
  {
   "cell_type": "code",
   "execution_count": 48,
   "metadata": {},
   "outputs": [
    {
     "data": {
      "text/plain": [
       "''"
      ]
     },
     "execution_count": 48,
     "metadata": {},
     "output_type": "execute_result"
    }
   ],
   "source": [
    "# Initialize Tkinter\n",
    "root = tk.Tk()\n",
    "root.title(\"Text-to-Speech Application\")\n",
    "root.geometry(\"800x600\")"
   ]
  },
  {
   "cell_type": "code",
   "execution_count": 49,
   "metadata": {},
   "outputs": [],
   "source": [
    "# Global variable to hold the current text\n",
    "current_text = \"\""
   ]
  },
  {
   "cell_type": "code",
   "execution_count": 50,
   "metadata": {},
   "outputs": [
    {
     "name": "stdout",
     "output_type": "stream",
     "text": [
      "Voice 0: Microsoft David Desktop - English (United States) - []\n",
      "Voice 1: Microsoft Zira Desktop - English (United States) - []\n"
     ]
    }
   ],
   "source": [
    "voices = engine.getProperty('voices')\n",
    "\n",
    "for index, voice in enumerate(voices):\n",
    "    print(f\"Voice {index}: {voice.name} - {voice.languages}\")"
   ]
  },
  {
   "cell_type": "code",
   "execution_count": 51,
   "metadata": {},
   "outputs": [],
   "source": [
    "## Function to read .txt files\n",
    "def read_text_file(file_path):\n",
    "    with open(file_path, 'r', encoding = 'utf-8') as file:\n",
    "        return file.read()"
   ]
  },
  {
   "cell_type": "code",
   "execution_count": 52,
   "metadata": {},
   "outputs": [],
   "source": [
    "# Function to read .epub files\n",
    "def read_epub_file(file_path):\n",
    "    book = epub.read_epub(file_path)\n",
    "    text = \"\"\n",
    "\n",
    "    for doc in book.get_items_of_type(epub.ITEM_DOCUMENT):\n",
    "        content = doc.get_content().decode('utf-8')\n",
    "        soup = BeautifulSoup(content, 'html.parser')\n",
    "        text += soup.get_text()\n",
    "\n",
    "    return text"
   ]
  },
  {
   "cell_type": "code",
   "execution_count": 53,
   "metadata": {},
   "outputs": [],
   "source": [
    "# Function to read .pdf files\n",
    "def read_pdf_file(file_path):\n",
    "    pdf = fitz.open(file_path)\n",
    "    text = \"\"\n",
    "\n",
    "    for page in pdf:\n",
    "        text += page.get_text()\n",
    "\n",
    "    return text"
   ]
  },
  {
   "cell_type": "code",
   "execution_count": 54,
   "metadata": {},
   "outputs": [],
   "source": [
    "# Add a progress bar \n",
    "progress = ttk.Progressbar(root, orient='horizontal', length=400, mode='determinate')\n",
    "progress.pack(pady=10)\n",
    "\n",
    "# Playback Control Functions\n",
    "\n",
    "def play_text():\n",
    "    global current_text\n",
    "    if not current_text:\n",
    "        messagebox.showwarning(\"No Text Loaded\", \"Please load a text file first.\")\n",
    "        return\n",
    "    total_length = len(current_text)\n",
    "    CHUNK_SIZE = 500\n",
    "    for i in range(0, total_length, CHUNK_SIZE):\n",
    "        chunk = current_text[i:i+CHUNK_SIZE]\n",
    "        engine.say(chunk)\n",
    "        engine.runAndWait()\n",
    "        progress['value'] = (i + CHUNK_SIZE) / total_length * 100\n",
    "        root.update_idletasks()\n",
    "\n",
    "def pause_reading():\n",
    "    engine.pause()\n",
    "\n",
    "def resume_reading():\n",
    "    engine.resume()\n",
    "\n",
    "def stop_reading():\n",
    "    engine.stop()"
   ]
  },
  {
   "cell_type": "code",
   "execution_count": 55,
   "metadata": {},
   "outputs": [],
   "source": [
    "# Speech Settings Functions \n",
    "\n",
    "def set_voice(event=None):\n",
    "    voice_id = voice_combo.current()\n",
    "\n",
    "    if voice_id >= 0 and voice_id < len(voices):\n",
    "        engine.setProperty('voice', voices[voice_id].id)\n",
    "\n",
    "def set_rate(event=None):\n",
    "    try:\n",
    "        rate = int(rate_slider.get())\n",
    "        engine.setProperty('rate', rate)\n",
    "    except ValueError:\n",
    "        messagebox.showerror(\"Invalid Rate\", \"Please enter a valid integer for rate.\")\n",
    "\n",
    "def set_volume(event=None):\n",
    "    try:\n",
    "        volume = float(volume_slider.get())\n",
    "        engine.setProperty('volume', volume)\n",
    "    except ValueError:\n",
    "        messagebox.showerror(\"Invalid Volume\", \"Please enter a valid float for volume.\")"
   ]
  },
  {
   "cell_type": "code",
   "execution_count": 56,
   "metadata": {},
   "outputs": [],
   "source": [
    "# Function to Save to Audio File\n",
    "def save_to_audio():\n",
    "    global current_text\n",
    "    if not current_text:\n",
    "        messagebox.showwarning(\"No Text Loaded\", \"Please load a text file first.\")\n",
    "        return\n",
    "    file_path = filedialog.asksaveasfilename(defaultextension=\".mp3\",\n",
    "                                             filetypes=[(\"MP3 Files\", \"*.mp3\"), (\"WAV Files\", \"*.wav\")])\n",
    "    if file_path:\n",
    "        try:\n",
    "            engine.save_to_file(current_text, file_path)\n",
    "            engine.runAndWait()\n",
    "            messagebox.showinfo(\"Success\", f\"Audio saved successfully at {file_path}\")\n",
    "        except Exception as e:\n",
    "            messagebox.showerror(\"Error\", f\"Failed to save audio:\\n{e}\")"
   ]
  },
  {
   "cell_type": "code",
   "execution_count": 57,
   "metadata": {},
   "outputs": [
    {
     "ename": "",
     "evalue": "",
     "output_type": "error",
     "traceback": [
      "\u001b[1;31mThe Kernel crashed while executing code in the current cell or a previous cell. \n",
      "\u001b[1;31mPlease review the code in the cell(s) to identify a possible cause of the failure. \n",
      "\u001b[1;31mClick <a href='https://aka.ms/vscodeJupyterKernelCrash'>here</a> for more info. \n",
      "\u001b[1;31mView Jupyter <a href='command:jupyter.viewOutput'>log</a> for further details."
     ]
    }
   ],
   "source": [
    "# Function to Load File\n",
    "def load_file():\n",
    "    global current_text\n",
    "\n",
    "    file_path = filedialog.askopenfilename(filetypes=[\n",
    "        (\"Supported Files\", \"*.txt *.TXT *.epub *.EPUB *.pdf *.PDF\"),\n",
    "        (\"Text Files\", \"*.txt *.TXT\"),\n",
    "        (\"EPUB Files\", \"*.epub *.EPUB\"),\n",
    "        (\"PDF Files\", \"*.pdf *.PDF\"),\n",
    "        (\"All Files\", \"*.*\")\n",
    "    ])\n",
    "\n",
    "    if file_path:\n",
    "        try:\n",
    "            if file_path.endswith('.txt'):\n",
    "                current_text = read_text_file(file_path)\n",
    "            elif file_path.endswith('.epub'):\n",
    "                current_text = read_epub_file(file_path)\n",
    "            elif file_path.endswith('.pdf'):\n",
    "                current_text = read_pdf_file(file_path)\n",
    "            else:\n",
    "                messagebox.showerror(\"Unsupported File\", \"Please select a .txt, .epub, or .pdf file.\")\n",
    "                return\n",
    "            \n",
    "            text_display.delete(1.0, tk.END)\n",
    "            text_display.insert(tk.END, current_text)\n",
    "            messagebox.showinfo(\"File Loaded\", f\"Successfully loaded {os.path.basename(file_path)}\")\n",
    "\n",
    "        except Exception as e:\n",
    "            messagebox.showerror(\"Error\", f\"Failed to load file:\\n{e}\")"
   ]
  },
  {
   "cell_type": "code",
   "execution_count": null,
   "metadata": {},
   "outputs": [],
   "source": [
    "# Create Frames for better layout management\n",
    "top_frame = tk.Frame(root)\n",
    "top_frame.pack(pady=10)\n",
    "\n",
    "middle_frame = tk.Frame(root)\n",
    "middle_frame.pack(pady=10, fill=\"both\", expand=True)\n",
    "\n",
    "bottom_frame = tk.Frame(root)\n",
    "bottom_frame.pack(pady=10)\n",
    "\n",
    "# Load File Button\n",
    "load_button = tk.Button(top_frame, text=\"Load File\", command=load_file, width=20)\n",
    "load_button.pack()\n",
    "\n",
    "# Text Display Area with Scrollbar\n",
    "text_display = tk.Text(middle_frame, wrap=tk.WORD, width=80, height=20)\n",
    "text_display.pack(side=tk.LEFT, fill=tk.BOTH, expand=True)\n",
    "\n",
    "scrollbar = tk.Scrollbar(middle_frame, command=text_display.yview)\n",
    "scrollbar.pack(side=tk.RIGHT, fill=tk.Y)\n",
    "\n",
    "text_display.config(yscrollcommand=scrollbar.set)\n",
    "\n",
    "# Playback Control Buttons\n",
    "play_button = tk.Button(bottom_frame, text=\"Play\", command=play_text, width=10)\n",
    "play_button.grid(row=0, column=0, padx=5, pady=5)\n",
    "\n",
    "# Removed Pause and Resume Buttons as pyttsx3 does not support them\n",
    "stop_button = tk.Button(bottom_frame, text=\"Stop\", command=stop_reading, width=10)\n",
    "stop_button.grid(row=0, column=1, padx=5, pady=5)\n",
    "\n",
    "save_button = tk.Button(bottom_frame, text=\"Save as Audio\", command=save_to_audio, width=15)\n",
    "save_button.grid(row=0, column=2, padx=5, pady=5)\n",
    "\n",
    "# Speech Settings\n",
    "settings_frame = tk.LabelFrame(root, text=\"Speech Settings\")\n",
    "settings_frame.pack(pady=10, padx=10, fill=\"x\")\n",
    "\n",
    "# Voice Selection\n",
    "tk.Label(settings_frame, text=\"Voice:\").grid(row=0, column=0, padx=5, pady=5, sticky='e')\n",
    "voice_combo = ttk.Combobox(settings_frame, state=\"readonly\")\n",
    "voice_names = [f\"{voice.name} ({', '.join([lang.decode('utf-8') if isinstance(lang, bytes) else lang for lang in voice.languages])})\" for voice in voices]\n",
    "voice_combo['values'] = voice_names\n",
    "voice_combo.current(0)  # Set default voice\n",
    "voice_combo.grid(row=0, column=1, padx=5, pady=5, sticky='w')\n",
    "voice_combo.bind(\"<<ComboboxSelected>>\", set_voice)\n",
    "\n",
    "# Speech Rate\n",
    "tk.Label(settings_frame, text=\"Rate:\").grid(row=1, column=0, padx=5, pady=5, sticky='e')\n",
    "rate_slider = tk.Scale(settings_frame, from_=100, to=200, orient=tk.HORIZONTAL, command=lambda val: set_rate())\n",
    "rate_slider.set(engine.getProperty('rate'))\n",
    "rate_slider.grid(row=1, column=1, padx=5, pady=5, sticky='w')\n",
    "\n",
    "# Volume Control\n",
    "tk.Label(settings_frame, text=\"Volume:\").grid(row=2, column=0, padx=5, pady=5, sticky='e')\n",
    "volume_slider = tk.Scale(settings_frame, from_=0.0, to=1.0, resolution=0.1, orient=tk.HORIZONTAL, command=lambda val: set_volume())\n",
    "volume_slider.set(engine.getProperty('volume'))\n",
    "volume_slider.grid(row=2, column=1, padx=5, pady=5, sticky='w')\n",
    "\n",
    "# Start the Tkinter event loop\n",
    "root.mainloop()"
   ]
  },
  {
   "cell_type": "code",
   "execution_count": 44,
   "metadata": {},
   "outputs": [
    {
     "name": "stdout",
     "output_type": "stream",
     "text": [
      "Voice 0: Microsoft David Desktop - English (United States) - []\n",
      "Voice 1: Microsoft Zira Desktop - English (United States) - []\n"
     ]
    }
   ],
   "source": [
    "# Initialize current text variable\n",
    "current_text = \"\"\n",
    "\n",
    "# Setup GUI\n",
    "root = tk.Tk()\n",
    "root.title(\"Audiobook Reader\")\n",
    "\n",
    "# Set window size\n",
    "root.geometry(\"800x600\")\n",
    "\n",
    "# Create a frame for controls\n",
    "controls_frame = tk.Frame(root)\n",
    "controls_frame.pack(pady=10)\n",
    "\n",
    "# Load File Button\n",
    "load_button = tk.Button(controls_frame, text=\"Load File\", command=load_file, width=15)\n",
    "load_button.grid(row=0, column=0, padx=5)\n",
    "\n",
    "# Play Button\n",
    "play_button = tk.Button(controls_frame, text=\"Play\", command=play_text, width=10)\n",
    "play_button.grid(row=0, column=1, padx=5)\n",
    "\n",
    "# Pause Button\n",
    "pause_button = tk.Button(controls_frame, text=\"Pause\", command=pause_reading, width=10)\n",
    "pause_button.grid(row=0, column=2, padx=5)\n",
    "\n",
    "# Resume Button\n",
    "resume_button = tk.Button(controls_frame, text=\"Resume\", command=resume_reading, width=10)\n",
    "resume_button.grid(row=0, column=3, padx=5)\n",
    "\n",
    "# Stop Button\n",
    "stop_button = tk.Button(controls_frame, text=\"Stop\", command=stop_reading, width=10)\n",
    "stop_button.grid(row=0, column=4, padx=5)\n",
    "\n",
    "# Save to Audio Button\n",
    "save_button = tk.Button(controls_frame, text=\"Save as Audio\", command=save_to_audio, width=15)\n",
    "save_button.grid(row=0, column=5, padx=5)\n",
    "\n",
    "# Create a frame for settings\n",
    "settings_frame = tk.Frame(root)\n",
    "settings_frame.pack(pady=10)\n",
    "\n",
    "# Voice Selection\n",
    "voice_label = tk.Label(settings_frame, text=\"Select Voice:\")\n",
    "voice_label.grid(row=0, column=0, padx=5)\n",
    "\n",
    "voice_combo = ttk.Combobox(settings_frame, values=[voice.name for voice in voices], state=\"readonly\")\n",
    "voice_combo.current(0)\n",
    "voice_combo.grid(row=0, column=1, padx=5)\n",
    "voice_combo.bind(\"<<ComboboxSelected>>\", lambda event: set_voice(voice_combo.current()))\n",
    "\n",
    "# Rate Slider\n",
    "rate_label = tk.Label(settings_frame, text=\"Speech Rate:\")\n",
    "rate_label.grid(row=0, column=2, padx=5)\n",
    "\n",
    "rate_slider = tk.Scale(settings_frame, from_=100, to=200, orient=tk.HORIZONTAL, command=lambda val: set_rate(val))\n",
    "rate_slider.set(engine.getProperty('rate'))\n",
    "rate_slider.grid(row=0, column=3, padx=5)\n",
    "\n",
    "# Volume Slider\n",
    "volume_label = tk.Label(settings_frame, text=\"Volume:\")\n",
    "volume_label.grid(row=0, column=4, padx=5)\n",
    "\n",
    "volume_slider = tk.Scale(settings_frame, from_=0.0, to=1.0, resolution=0.1, orient=tk.HORIZONTAL,\n",
    "                        command=lambda val: set_volume(val))\n",
    "volume_slider.set(engine.getProperty('volume'))\n",
    "volume_slider.grid(row=0, column=5, padx=5)\n",
    "\n",
    "# Text Display Area with Scrollbar\n",
    "text_frame = tk.Frame(root)\n",
    "text_frame.pack(pady=10, fill=tk.BOTH, expand=True)\n",
    "\n",
    "scrollbar = tk.Scrollbar(text_frame)\n",
    "scrollbar.pack(side=tk.RIGHT, fill=tk.Y)\n",
    "\n",
    "text_display = tk.Text(text_frame, wrap=tk.WORD, yscrollcommand=scrollbar.set, font=(\"Helvetica\", 12))\n",
    "text_display.pack(fill=tk.BOTH, expand=True)\n",
    "scrollbar.config(command=text_display.yview)\n",
    "\n",
    "# Run the GUI loop\n",
    "root.mainloop()"
   ]
  }
 ],
 "metadata": {
  "kernelspec": {
   "display_name": "Python 3",
   "language": "python",
   "name": "python3"
  },
  "language_info": {
   "codemirror_mode": {
    "name": "ipython",
    "version": 3
   },
   "file_extension": ".py",
   "mimetype": "text/x-python",
   "name": "python",
   "nbconvert_exporter": "python",
   "pygments_lexer": "ipython3",
   "version": "3.12.4"
  }
 },
 "nbformat": 4,
 "nbformat_minor": 2
}
